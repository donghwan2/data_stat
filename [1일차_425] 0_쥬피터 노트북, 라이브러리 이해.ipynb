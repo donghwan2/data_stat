{
 "cells": [
  {
   "cell_type": "markdown",
   "id": "89edc381",
   "metadata": {},
   "source": [
    "# Jupyter Notebook 활용 및 Python 분석 환경 설정"
   ]
  },
  {
   "cell_type": "markdown",
   "id": "98292504",
   "metadata": {},
   "source": [
    "\n",
    "### 주요 내용\n",
    "\n",
    "1. Jupyter notebook의 주요 기능 및 단축키 등 설명\n",
    "2. pip 이해 및 import를 활용한 라이브러리 불러오기\n",
    "\n",
    "### 목표 \n",
    "1. Jupyter Notebook을 활용해서 Python 코드를 작성하고 실행할 수 있다.\n",
    "2. 라이브러리(library) 활용 목적과 절차를 이해한다."
   ]
  },
  {
   "cell_type": "code",
   "execution_count": 1,
   "id": "07f090fd",
   "metadata": {},
   "outputs": [
    {
     "data": {
      "text/plain": [
       "2"
      ]
     },
     "execution_count": 1,
     "metadata": {},
     "output_type": "execute_result"
    }
   ],
   "source": [
    "# 파이썬 첫 코딩(shift + enter로 실행해보기)\n",
    "\n",
    "# 숫자의 덧셈\n",
    "1+1"
   ]
  },
  {
   "cell_type": "code",
   "execution_count": 2,
   "id": "14720a93",
   "metadata": {},
   "outputs": [
    {
     "data": {
      "text/plain": [
       "'안녕 하세요'"
      ]
     },
     "execution_count": 2,
     "metadata": {},
     "output_type": "execute_result"
    }
   ],
   "source": [
    "# 문자도 덧셈이 됩니다.\n",
    "'안녕 ' + '하세요'  "
   ]
  },
  {
   "cell_type": "code",
   "execution_count": 17,
   "id": "3625534b",
   "metadata": {},
   "outputs": [],
   "source": [
    "# shift + enter : 실행(다음 셀로 넘어가짐)\n",
    "# ctrl + enter : 실행(제자리 실행)"
   ]
  },
  {
   "cell_type": "markdown",
   "id": "1369d05e",
   "metadata": {},
   "source": [
    "# 1. Jupyter Notebook 사용법, 기능 및 단축키 소개  "
   ]
  },
  {
   "cell_type": "markdown",
   "id": "d41aa5c8",
   "metadata": {},
   "source": [
    "가장 먼저 jupyter notebook의 사용법을 살펴보겠습니다.  \n",
    "\n",
    "쥬피터 노트북은 line(cell) by line으로 파이썬 코드를 실행합니다. \\\n",
    "상단 메뉴바와 아이콘을 활용하여 cell을 추가, 제거, 이동, 복사 할 수 있고 명령어를 실행하고 결과를 확인할 수 있습니다. \\\n",
    "이 과정에서 주로 활용되는 cell과 관련된 기본적인 단축키를 알아두면 편합니다.  "
   ]
  },
  {
   "cell_type": "markdown",
   "id": "98ac3008",
   "metadata": {},
   "source": [
    "* cell 실행 \n",
    "  - `Shift + Enter` : 실행하고 다음 cell로 이동\n",
    "  - `Ctrl + Enter` : 제자리 실행"
   ]
  },
  {
   "cell_type": "markdown",
   "id": "557dcb6d",
   "metadata": {},
   "source": [
    "* 셀 외곽 클릭(파란색) : 명령 모드(cell의 추가, 복사, 삭제 등), \"ESC\"\n",
    "  - `H` : 단축키 목록 팝업\n",
    "  - `A` : 위에 cell 추가 \n",
    "  - `B` : 아래에 cell 추가\n",
    "  - `위/아래 화살표` : cell 이동\n",
    "  - `DD` : cell 삭제\n",
    "  - `z` : 삭제된 셀 되살리기\n",
    "  - `M` : cell을 Markdown(문서 작성) 형식으로 변경\n",
    "  - `Y` : cell을 Code(명령어 작성) 형식으로 변경\n",
    "  - `S`, `Ctrl + S` : 저장\n",
    "  - `ctrl(mac_command) + shift + - ` : 셀 나누기\n",
    "  - `shift + m` : 셀 합치기\n",
    "    "
   ]
  },
  {
   "cell_type": "markdown",
   "id": "af046b2b",
   "metadata": {},
   "source": [
    "* 셀 내부 클릭(초록색) : 코드 입력 모드(각 cell 안에서 명령어 등 입력), \"ENTER\"\n",
    "  - `Ctrl + /` : 주석처리/해제\n",
    "\n",
    "  \n",
    "\n",
    "<br>"
   ]
  },
  {
   "cell_type": "code",
   "execution_count": 5,
   "id": "ed981371",
   "metadata": {},
   "outputs": [
    {
     "data": {
      "text/html": [
       "<img src=\"https://img1.daumcdn.net/thumb/R1280x0/?scode=mtistory2&fname=https%3A%2F%2Fblog.kakaocdn.net%2Fdn%2FbBkixw%2FbtsakdP1BUn%2FSxOblIemIMtKTenlwkr9R1%2Fimg.png\"/>"
      ],
      "text/plain": [
       "<IPython.core.display.Image object>"
      ]
     },
     "execution_count": 5,
     "metadata": {},
     "output_type": "execute_result"
    }
   ],
   "source": [
    "# 가장 많이 사용하는 단축키들\n",
    "from IPython.display import Image\n",
    "url = 'https://img1.daumcdn.net/thumb/R1280x0/?scode=mtistory2&fname=https%3A%2F%2Fblog.kakaocdn.net%2Fdn%2FbBkixw%2FbtsakdP1BUn%2FSxOblIemIMtKTenlwkr9R1%2Fimg.png'\n",
    "Image(url=url)"
   ]
  },
  {
   "cell_type": "code",
   "execution_count": 13,
   "id": "64a6500b",
   "metadata": {},
   "outputs": [],
   "source": [
    "# \"#\"을 붙여서 주석(comment)을 달 수 있습니다.\n",
    "# 주석 => 코드로 인식하지 않는다"
   ]
  },
  {
   "cell_type": "code",
   "execution_count": 6,
   "id": "f466ddd1",
   "metadata": {},
   "outputs": [
    {
     "name": "stdout",
     "output_type": "stream",
     "text": [
      "2\n",
      "8\n"
     ]
    },
    {
     "data": {
      "text/plain": [
       "2.0"
      ]
     },
     "execution_count": 6,
     "metadata": {},
     "output_type": "execute_result"
    }
   ],
   "source": [
    "# 이 cell에 간단한 사칙 연산을 입력하고 실행해 봅시다.\n",
    "print(1+1)\n",
    "print(2*4)\n",
    "4/2"
   ]
  },
  {
   "cell_type": "code",
   "execution_count": 7,
   "id": "4743c943",
   "metadata": {},
   "outputs": [],
   "source": [
    "# A로 위에 셀 추가해보기"
   ]
  },
  {
   "cell_type": "code",
   "execution_count": 8,
   "id": "3f5ba158",
   "metadata": {},
   "outputs": [],
   "source": [
    "# B로 아래에 셀 추가해보기"
   ]
  },
  {
   "cell_type": "code",
   "execution_count": 9,
   "id": "e7c59929",
   "metadata": {},
   "outputs": [],
   "source": [
    "# DD(셀 삭제) 후 z로 되돌리기"
   ]
  },
  {
   "cell_type": "markdown",
   "id": "e5f3b03b",
   "metadata": {},
   "source": [
    "# 2. Library의 함수 이용해보기"
   ]
  },
  {
   "cell_type": "markdown",
   "id": "51a0f26a",
   "metadata": {},
   "source": [
    "import를 활용해서 특정 라이브러리를 불러오기. 이후 해당 라이브러리에 포함된 함수 활용 가능"
   ]
  },
  {
   "cell_type": "code",
   "execution_count": 62,
   "id": "934c0416",
   "metadata": {},
   "outputs": [
    {
     "name": "stdout",
     "output_type": "stream",
     "text": [
      "2023-04-23 22:03:10.918867\n"
     ]
    }
   ],
   "source": [
    "# (예시1) datetime 라이브러리를 불러와서 datetime.now() 함수로 현재 시간 확인하기\n",
    "import datetime    # 날짜, 시간 관련 라이브러리\n",
    "print(datetime.datetime.now())"
   ]
  },
  {
   "cell_type": "code",
   "execution_count": 13,
   "id": "8a6ac895",
   "metadata": {},
   "outputs": [
    {
     "data": {
      "text/plain": [
       "2.0"
      ]
     },
     "execution_count": 13,
     "metadata": {},
     "output_type": "execute_result"
    }
   ],
   "source": [
    "# (예시2) 숫자 관련 라이브러리 numpy로 평균을 구해보자\n",
    "import numpy as np  # 행렬 수학 관련 라이브러리\n",
    "np.mean([1, 2, 3])  # numpy에 있는 mean 함수로 평균을 구했다."
   ]
  },
  {
   "cell_type": "markdown",
   "id": "2655cbf5",
   "metadata": {},
   "source": [
    "이렇게 각 라이브러리마다 역할이 있고, 필요에 따라 *import*로 불러와 활용합니다. "
   ]
  },
  {
   "cell_type": "markdown",
   "id": "bc1e41d8",
   "metadata": {},
   "source": [
    "#### *참고* "
   ]
  },
  {
   "cell_type": "code",
   "execution_count": 16,
   "id": "f9bb80fd",
   "metadata": {},
   "outputs": [],
   "source": [
    "# 현재 작업경로 출력\n",
    "%pwd  # present working directory"
   ]
  },
  {
   "cell_type": "code",
   "execution_count": 15,
   "id": "0dadc555",
   "metadata": {},
   "outputs": [],
   "source": [
    "# 현재 경로에 새로운 폴더 생성\n",
    "%mkdir new"
   ]
  },
  {
   "cell_type": "markdown",
   "id": "993853cf",
   "metadata": {},
   "source": [
    "<br>\n",
    "\n",
    "### [실습] \n",
    "\n",
    "1. *import*로 **random** 라이브러리 불러오기\n",
    "2. **random** 라이브러리의 *randint()* 함수를 활용해서 1부터 100까지 숫자 중에서 랜덤으로 하나 선택하기 \n",
    "3. **math** 라이브러리를 불러와서 *pow(x, y)* 로 거듭제곱(x의 y승) 구하기"
   ]
  },
  {
   "cell_type": "code",
   "execution_count": 3,
   "id": "419e04c2",
   "metadata": {},
   "outputs": [],
   "source": [
    "# 1. import로 random 라이브러리 불러오기\n",
    "import random"
   ]
  },
  {
   "cell_type": "code",
   "execution_count": 4,
   "id": "fbface52",
   "metadata": {},
   "outputs": [
    {
     "data": {
      "text/plain": [
       "69"
      ]
     },
     "execution_count": 4,
     "metadata": {},
     "output_type": "execute_result"
    }
   ],
   "source": [
    "# 2. random 라이브러리의 randint() 함수를 활용해서 1부터 100까지 숫자 중에서 랜덤으로 하나 선택하기\n",
    "# 범위 내 정수 랜덤값\n",
    "random.randint(1, 100)"
   ]
  },
  {
   "cell_type": "code",
   "execution_count": null,
   "id": "55507253",
   "metadata": {},
   "outputs": [],
   "source": []
  },
  {
   "cell_type": "markdown",
   "id": "352b8816",
   "metadata": {},
   "source": [
    "### 2.1. from과 as를 활용한 라이브러리 불러오기"
   ]
  },
  {
   "cell_type": "markdown",
   "id": "dfb084bb",
   "metadata": {},
   "source": [
    "(1) 라이브러리는 몇개의 모듈로 구성되고, 각 모듈 안에 함수 등이 포함되어 있음  \n",
    "(2) from을 활용하면 라이브러리 내 특정 모듈이나 함수를 지정해서 불러오는 것도 가능  \n",
    "(3) 라이브러리를 불러올 때 as를 활용해서 별명을 지정 가능  "
   ]
  },
  {
   "cell_type": "code",
   "execution_count": 18,
   "id": "d3d5e8e4",
   "metadata": {},
   "outputs": [],
   "source": [
    "# import를 활용한 라이브러리 호출\n",
    "import pandas\n",
    "# pandas.read_csv()   # csv 불러오는 함수"
   ]
  },
  {
   "cell_type": "code",
   "execution_count": 19,
   "id": "c19b692f",
   "metadata": {},
   "outputs": [],
   "source": [
    "# as를 활용한 별명(alias) 지정   \n",
    "import pandas as pd\n",
    "# pd.read_csv()       "
   ]
  },
  {
   "cell_type": "code",
   "execution_count": 22,
   "id": "4e4c2958",
   "metadata": {},
   "outputs": [],
   "source": [
    "# from으로 라이브러리 내 특정 함수 불러오기\n",
    "from pandas import read_csv\n",
    "# read_csv()"
   ]
  },
  {
   "cell_type": "code",
   "execution_count": 23,
   "id": "5c095495",
   "metadata": {},
   "outputs": [],
   "source": [
    "# 라이브러리 내 모든(*) 함수 불러오기\n",
    "from pandas import * \n",
    "# read_csv()\n",
    "# read_excel()\n",
    "# ..."
   ]
  },
  {
   "cell_type": "markdown",
   "id": "64f9fb9e",
   "metadata": {},
   "source": [
    "#### End of script"
   ]
  }
 ],
 "metadata": {
  "kernelspec": {
   "display_name": "Python 3",
   "language": "python",
   "name": "python3"
  },
  "language_info": {
   "codemirror_mode": {
    "name": "ipython",
    "version": 3
   },
   "file_extension": ".py",
   "mimetype": "text/x-python",
   "name": "python",
   "nbconvert_exporter": "python",
   "pygments_lexer": "ipython3",
   "version": "3.8.8"
  },
  "varInspector": {
   "cols": {
    "lenName": 16,
    "lenType": 16,
    "lenVar": 40
   },
   "kernels_config": {
    "python": {
     "delete_cmd_postfix": "",
     "delete_cmd_prefix": "del ",
     "library": "var_list.py",
     "varRefreshCmd": "print(var_dic_list())"
    },
    "r": {
     "delete_cmd_postfix": ") ",
     "delete_cmd_prefix": "rm(",
     "library": "var_list.r",
     "varRefreshCmd": "cat(var_dic_list()) "
    }
   },
   "types_to_exclude": [
    "module",
    "function",
    "builtin_function_or_method",
    "instance",
    "_Feature"
   ],
   "window_display": false
  }
 },
 "nbformat": 4,
 "nbformat_minor": 5
}
